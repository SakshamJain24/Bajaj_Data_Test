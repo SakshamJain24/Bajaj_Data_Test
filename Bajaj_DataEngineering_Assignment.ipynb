{
  "nbformat": 4,
  "nbformat_minor": 0,
  "metadata": {
    "colab": {
      "provenance": []
    },
    "kernelspec": {
      "name": "python3",
      "display_name": "Python 3"
    },
    "language_info": {
      "name": "python"
    }
  },
  "cells": [
    {
      "cell_type": "code",
      "execution_count": 5,
      "metadata": {
        "colab": {
          "base_uri": "https://localhost:8080/"
        },
        "id": "VDc91fbEZPWc",
        "outputId": "39d61fbd-04ab-4333-f1dc-6e75e4c14fcf"
      },
      "outputs": [
        {
          "output_type": "execute_result",
          "data": {
            "text/plain": [
              "{'firstName': 0.0, 'lastName': 70.97, 'birthDate': 32.26}"
            ]
          },
          "metadata": {},
          "execution_count": 5
        }
      ],
      "source": [
        "import json\n",
        "\n",
        "# Load the JSON data\n",
        "file_path = 'DataEngineeringQ2.json'\n",
        "with open(file_path, 'r') as file:\n",
        "    data = json.load(file)\n",
        "\n",
        "# Extract patient details\n",
        "patient_details = [entry['patientDetails'] for entry in data]\n",
        "\n",
        "# Define the columns to check\n",
        "columns = ['firstName', 'lastName', 'birthDate']\n",
        "\n",
        "# Initialize missing counts\n",
        "missing_counts = {col: 0 for col in columns}\n",
        "\n",
        "# Count missing values\n",
        "for patient in patient_details:\n",
        "    for col in columns:\n",
        "        if not patient.get(col):  # Checking for None or empty string\n",
        "            missing_counts[col] += 1\n",
        "\n",
        "# Calculate percentages\n",
        "total_patients = len(patient_details)\n",
        "missing_percentages = {col: (count / total_patients) * 100 for col, count in missing_counts.items()}\n",
        "\n",
        "# Round off the percentages to 2 decimal places\n",
        "missing_percentages_rounded = {col: round(perc, 2) for col, perc in missing_percentages.items()}\n",
        "\n",
        "missing_percentages_rounded\n"
      ]
    },
    {
      "cell_type": "code",
      "source": [
        "from collections import Counter\n",
        "from datetime import datetime\n",
        "\n",
        "# 2. Percentage of female gender after imputation of gender column basis mode\n",
        "# Extract gender values\n",
        "genders = [patient.get('gender') for patient in patient_details if patient.get('gender')]\n",
        "\n",
        "# Impute missing gender values with mode\n",
        "mode_gender = Counter(genders).most_common(1)[0][0]\n",
        "for patient in patient_details:\n",
        "    if not patient.get('gender'):\n",
        "        patient['gender'] = mode_gender\n",
        "\n",
        "# Calculate percentage of female gender\n",
        "female_count = sum(1 for patient in patient_details if patient.get('gender') == 'F')\n",
        "female_percentage = (female_count / total_patients) * 100\n",
        "female_percentage_rounded = round(female_percentage, 2)\n",
        "\n",
        "# 6. Count of Adult age group\n",
        "# Add ageGroup column\n",
        "def calculate_age(birth_date):\n",
        "    if birth_date:\n",
        "        birth_date = datetime.strptime(birth_date, \"%Y-%m-%dT%H:%M:%S.%fZ\")\n",
        "        return (datetime.now() - birth_date).days // 365\n",
        "    return None\n",
        "\n",
        "for patient in patient_details:\n",
        "    age = calculate_age(patient.get('birthDate'))\n",
        "    if age is not None:\n",
        "        if age <= 12:\n",
        "            patient['ageGroup'] = 'Child'\n",
        "        elif 13 <= age <= 19:\n",
        "            patient['ageGroup'] = 'Teen'\n",
        "        elif 20 <= age <= 59:\n",
        "            patient['ageGroup'] = 'Adult'\n",
        "        else:\n",
        "            patient['ageGroup'] = 'Senior'\n",
        "    else:\n",
        "        patient['ageGroup'] = None\n",
        "\n",
        "adult_count = sum(1 for patient in patient_details if patient.get('ageGroup') == 'Adult')\n",
        "\n",
        "# 7. Average number of medicines prescribed\n",
        "medicines_counts = [len(appointment['consultationData']['medicines']) for appointment in data]\n",
        "average_medicines = sum(medicines_counts) / len(medicines_counts)\n",
        "average_medicines_rounded = round(average_medicines, 2)\n",
        "\n",
        "# 8. 3rd most frequently prescribed medicineName\n",
        "medicine_names = [medicine['medicineName'] for appointment in data for medicine in appointment['consultationData']['medicines']]\n",
        "medicine_name_counts = Counter(medicine_names)\n",
        "third_most_common_medicine = medicine_name_counts.most_common(3)[-1][0]\n",
        "\n",
        "# 9. Percentage distribution of total active and inactive medicines\n",
        "total_medicines = len(medicine_names)\n",
        "active_medicines = sum(1 for appointment in data for medicine in appointment['consultationData']['medicines'] if medicine['isActive'])\n",
        "inactive_medicines = total_medicines - active_medicines\n",
        "active_percentage = (active_medicines / total_medicines) * 100\n",
        "inactive_percentage = (inactive_medicines / total_medicines) * 100\n",
        "active_inactive_percentages_rounded = round(active_percentage, 2), round(inactive_percentage, 2)\n",
        "\n",
        "# Output all results\n",
        "missing_percentages_rounded, female_percentage_rounded, adult_count, average_medicines_rounded, third_most_common_medicine, active_inactive_percentages_rounded\n"
      ],
      "metadata": {
        "id": "WPAcBsUdZrVA",
        "colab": {
          "base_uri": "https://localhost:8080/"
        },
        "outputId": "d9a2e2ba-ad3d-4af2-b793-b8733fc7246c"
      },
      "execution_count": 6,
      "outputs": [
        {
          "output_type": "execute_result",
          "data": {
            "text/plain": [
              "({'firstName': 0.0, 'lastName': 70.97, 'birthDate': 32.26},\n",
              " 32.26,\n",
              " 21,\n",
              " 2.13,\n",
              " 'C',\n",
              " (69.7, 30.3))"
            ]
          },
          "metadata": {},
          "execution_count": 6
        }
      ]
    },
    {
      "cell_type": "code",
      "source": [
        "def is_valid_indian_phone_number(phone_number):\n",
        "    if phone_number.startswith('+91'):\n",
        "        phone_number = phone_number[3:]\n",
        "    elif phone_number.startswith('91'):\n",
        "        phone_number = phone_number[2:]\n",
        "\n",
        "    if phone_number.isdigit() and 6000000000 <= int(phone_number) <= 9999999999:\n",
        "        return True\n",
        "    return False\n",
        "\n",
        "# Add isValidMobile column\n",
        "for patient in patient_details:\n",
        "    phone_number = patient.get('phoneNumber')\n",
        "    patient['isValidMobile'] = is_valid_indian_phone_number(phone_number) if phone_number else False\n",
        "\n",
        "# Count the number of valid phone numbers\n",
        "valid_phone_count = sum(1 for patient in patient_details if patient['isValidMobile'])\n",
        "\n",
        "print(f'Number of valid phone numbers: {valid_phone_count}')\n"
      ],
      "metadata": {
        "colab": {
          "base_uri": "https://localhost:8080/"
        },
        "id": "e34AtqjvaNdT",
        "outputId": "f603e48e-b7ba-41b5-ef11-07afe09cebfc"
      },
      "execution_count": 7,
      "outputs": [
        {
          "output_type": "stream",
          "name": "stdout",
          "text": [
            "Number of valid phone numbers: 0\n"
          ]
        }
      ]
    },
    {
      "cell_type": "code",
      "source": [
        "import numpy as np\n",
        "from datetime import datetime\n",
        "\n",
        "def calculate_age(birth_date):\n",
        "    if birth_date:\n",
        "        birth_date = datetime.strptime(birth_date, \"%Y-%m-%dT%H:%M:%S.%fZ\")\n",
        "        return (datetime.now() - birth_date).days // 365\n",
        "    return None\n",
        "\n",
        "# Extract ages and number of medicines prescribed\n",
        "ages = []\n",
        "num_medicines = []\n",
        "\n",
        "for patient in patient_details:\n",
        "    age = calculate_age(patient.get('birthDate'))\n",
        "    if age is not None:\n",
        "        ages.append(age)\n",
        "        patient_id = patient.get('patientId')  # Use the correct key here\n",
        "        num_medicines.append(len(next(appointment['consultationData']['medicines'] for appointment in data if appointment['patientDetails']['patientId'] == patient_id)))\n",
        "\n",
        "# Calculate Pearson correlation\n",
        "correlation = np.corrcoef(ages, num_medicines)[0, 1]\n",
        "correlation_rounded = round(correlation, 2)\n",
        "\n",
        "print(f'Pearson correlation between number of prescribed medicines and patient\\'s age: {correlation_rounded}')\n"
      ],
      "metadata": {
        "colab": {
          "base_uri": "https://localhost:8080/",
          "height": 367
        },
        "id": "LH7XfdRLa8Wd",
        "outputId": "daf30363-1412-4e69-eb4a-1105f49950f4"
      },
      "execution_count": 12,
      "outputs": [
        {
          "output_type": "error",
          "ename": "KeyError",
          "evalue": "'patientId'",
          "traceback": [
            "\u001b[0;31m---------------------------------------------------------------------------\u001b[0m",
            "\u001b[0;31mKeyError\u001b[0m                                  Traceback (most recent call last)",
            "\u001b[0;32m<ipython-input-12-0de8197d3a78>\u001b[0m in \u001b[0;36m<cell line: 14>\u001b[0;34m()\u001b[0m\n\u001b[1;32m     17\u001b[0m         \u001b[0mages\u001b[0m\u001b[0;34m.\u001b[0m\u001b[0mappend\u001b[0m\u001b[0;34m(\u001b[0m\u001b[0mage\u001b[0m\u001b[0;34m)\u001b[0m\u001b[0;34m\u001b[0m\u001b[0;34m\u001b[0m\u001b[0m\n\u001b[1;32m     18\u001b[0m         \u001b[0mpatient_id\u001b[0m \u001b[0;34m=\u001b[0m \u001b[0mpatient\u001b[0m\u001b[0;34m.\u001b[0m\u001b[0mget\u001b[0m\u001b[0;34m(\u001b[0m\u001b[0;34m'patientId'\u001b[0m\u001b[0;34m)\u001b[0m  \u001b[0;31m# Use the correct key here\u001b[0m\u001b[0;34m\u001b[0m\u001b[0;34m\u001b[0m\u001b[0m\n\u001b[0;32m---> 19\u001b[0;31m         \u001b[0mnum_medicines\u001b[0m\u001b[0;34m.\u001b[0m\u001b[0mappend\u001b[0m\u001b[0;34m(\u001b[0m\u001b[0mlen\u001b[0m\u001b[0;34m(\u001b[0m\u001b[0mnext\u001b[0m\u001b[0;34m(\u001b[0m\u001b[0mappointment\u001b[0m\u001b[0;34m[\u001b[0m\u001b[0;34m'consultationData'\u001b[0m\u001b[0;34m]\u001b[0m\u001b[0;34m[\u001b[0m\u001b[0;34m'medicines'\u001b[0m\u001b[0;34m]\u001b[0m \u001b[0;32mfor\u001b[0m \u001b[0mappointment\u001b[0m \u001b[0;32min\u001b[0m \u001b[0mdata\u001b[0m \u001b[0;32mif\u001b[0m \u001b[0mappointment\u001b[0m\u001b[0;34m[\u001b[0m\u001b[0;34m'patientDetails'\u001b[0m\u001b[0;34m]\u001b[0m\u001b[0;34m[\u001b[0m\u001b[0;34m'patientId'\u001b[0m\u001b[0;34m]\u001b[0m \u001b[0;34m==\u001b[0m \u001b[0mpatient_id\u001b[0m\u001b[0;34m)\u001b[0m\u001b[0;34m)\u001b[0m\u001b[0;34m)\u001b[0m\u001b[0;34m\u001b[0m\u001b[0;34m\u001b[0m\u001b[0m\n\u001b[0m\u001b[1;32m     20\u001b[0m \u001b[0;34m\u001b[0m\u001b[0m\n\u001b[1;32m     21\u001b[0m \u001b[0;31m# Calculate Pearson correlation\u001b[0m\u001b[0;34m\u001b[0m\u001b[0;34m\u001b[0m\u001b[0m\n",
            "\u001b[0;32m<ipython-input-12-0de8197d3a78>\u001b[0m in \u001b[0;36m<genexpr>\u001b[0;34m(.0)\u001b[0m\n\u001b[1;32m     17\u001b[0m         \u001b[0mages\u001b[0m\u001b[0;34m.\u001b[0m\u001b[0mappend\u001b[0m\u001b[0;34m(\u001b[0m\u001b[0mage\u001b[0m\u001b[0;34m)\u001b[0m\u001b[0;34m\u001b[0m\u001b[0;34m\u001b[0m\u001b[0m\n\u001b[1;32m     18\u001b[0m         \u001b[0mpatient_id\u001b[0m \u001b[0;34m=\u001b[0m \u001b[0mpatient\u001b[0m\u001b[0;34m.\u001b[0m\u001b[0mget\u001b[0m\u001b[0;34m(\u001b[0m\u001b[0;34m'patientId'\u001b[0m\u001b[0;34m)\u001b[0m  \u001b[0;31m# Use the correct key here\u001b[0m\u001b[0;34m\u001b[0m\u001b[0;34m\u001b[0m\u001b[0m\n\u001b[0;32m---> 19\u001b[0;31m         \u001b[0mnum_medicines\u001b[0m\u001b[0;34m.\u001b[0m\u001b[0mappend\u001b[0m\u001b[0;34m(\u001b[0m\u001b[0mlen\u001b[0m\u001b[0;34m(\u001b[0m\u001b[0mnext\u001b[0m\u001b[0;34m(\u001b[0m\u001b[0mappointment\u001b[0m\u001b[0;34m[\u001b[0m\u001b[0;34m'consultationData'\u001b[0m\u001b[0;34m]\u001b[0m\u001b[0;34m[\u001b[0m\u001b[0;34m'medicines'\u001b[0m\u001b[0;34m]\u001b[0m \u001b[0;32mfor\u001b[0m \u001b[0mappointment\u001b[0m \u001b[0;32min\u001b[0m \u001b[0mdata\u001b[0m \u001b[0;32mif\u001b[0m \u001b[0mappointment\u001b[0m\u001b[0;34m[\u001b[0m\u001b[0;34m'patientDetails'\u001b[0m\u001b[0;34m]\u001b[0m\u001b[0;34m[\u001b[0m\u001b[0;34m'patientId'\u001b[0m\u001b[0;34m]\u001b[0m \u001b[0;34m==\u001b[0m \u001b[0mpatient_id\u001b[0m\u001b[0;34m)\u001b[0m\u001b[0;34m)\u001b[0m\u001b[0;34m)\u001b[0m\u001b[0;34m\u001b[0m\u001b[0;34m\u001b[0m\u001b[0m\n\u001b[0m\u001b[1;32m     20\u001b[0m \u001b[0;34m\u001b[0m\u001b[0m\n\u001b[1;32m     21\u001b[0m \u001b[0;31m# Calculate Pearson correlation\u001b[0m\u001b[0;34m\u001b[0m\u001b[0;34m\u001b[0m\u001b[0m\n",
            "\u001b[0;31mKeyError\u001b[0m: 'patientId'"
          ]
        }
      ]
    }
  ]
}